{
 "cells": [
  {
   "cell_type": "code",
   "execution_count": 10,
   "id": "84b28c47-ed2d-4c41-9e3f-7424198faf8e",
   "metadata": {},
   "outputs": [],
   "source": [
    "import logging\n",
    "import math\n",
    "import sys\n",
    "import os\n",
    "\n",
    "from jupylet.sprite import Sprite\n",
    "from jupylet.label import Label\n",
    "from jupylet.app import App\n",
    "import numpy as np\n",
    "import glm  # 確保已安裝 PyGLM\n",
    "\n",
    "# 設置日誌記錄\n",
    "logging.basicConfig(level=logging.INFO)\n",
    "logger = logging.getLogger(__name__)\n",
    "\n",
    "# 初始化應用\n",
    "app = App(width=600, height=600)\n",
    "\n",
    "# 定義迷宮（1 表示牆，0 表示可通行）\n",
    "maze = np.array([\n",
    "    [1, 1, 1, 1, 1, 1],\n",
    "    [1, 0, 0, 0, 1, 0],\n",
    "    [1, 0, 1, 0, 1, 0],\n",
    "    [1, 0, 1, 0, 0, 0],\n",
    "    [1, 1, 1, 1, 1, 1],\n",
    "])\n",
    "\n",
    "# 定義迷宮格子大小（像素）\n",
    "cell_size = 100  # 每個格子的寬度和高度\n",
    "\n",
    "# 創建玩家\n",
    "player = Sprite('images.png', x=100, y=100)  # 確保 'images.png' 位於正確路徑\n",
    "player.scale = glm.vec3(0.5, 0.5, 1.0)  # 根據需要調整縮放比例\n",
    "\n",
    "# 創建牆壁 Sprites 列表，使用 'images.png' 作為牆壁圖片\n",
    "wall_sprites = []\n",
    "for y, row in enumerate(maze):\n",
    "    for x, cell in enumerate(row):\n",
    "        if cell == 1:\n",
    "            wall = Sprite(\n",
    "                'images.png',                           # 牆壁圖片\n",
    "                x=x * cell_size,                        # 位置 x\n",
    "                y=(app.height - (y + 1) * cell_size),    # 位置 y（將迷宮 y 軸反轉以匹配屏幕 y 軸）\n",
    "                scale=glm.vec3(0.5, 0.5, 1.0)            # 縮放至 50x50（假設 'images.png' 原始大小為 100x100）\n",
    "            )\n",
    "            wall_sprites.append(wall)\n",
    "\n",
    "# 創建標籤（可選）\n",
    "title_label = Label('迷宮遊戲', color='cyan', font_size=32, x=10, y=app.height - 40)\n",
    "\n",
    "# 創建座標標籤，置於右上角\n",
    "coord_label = Label('玩家座標: (100, 100)', color='yellow', font_size=24, \n",
    "                    x=app.width - 200, y=app.height - 30)  # 調整 x 以適應文字寬度\n",
    "\n",
    "# 定義一個函數來檢查目標位置是否可通行\n",
    "def is_passable(x, y):\n",
    "    \"\"\"\n",
    "    檢查給定的 (x, y) 位置是否在迷宮中且可通行。\n",
    "    \"\"\"\n",
    "    maze_col = int(x / cell_size)\n",
    "    maze_row = int((app.height - y) / cell_size)\n",
    "    if 0 <= maze_row < maze.shape[0] and 0 <= maze_col < maze.shape[1]:\n",
    "        return maze[maze_row][maze_col] == 0\n",
    "    return False\n",
    "\n",
    "# 定義一個函數來更新座標標籤\n",
    "def update_coord_label():\n",
    "    \"\"\"\n",
    "    更新座標標籤以顯示玩家的當前位置。\n",
    "    \"\"\"\n",
    "    coord_text = f'玩家座標: ({int(player.x)}, {int(player.y)})'\n",
    "    coord_label.text = coord_text\n",
    "    logger.info(f\"更新座標標籤: {coord_text}\")\n",
    "\n",
    "# 處理滑鼠移動事件，讓玩家跟隨滑鼠位置\n",
    "@app.event\n",
    "def mouse_position_event(x, y, dx, dy):\n",
    "    \"\"\"\n",
    "    當滑鼠位置改變時觸發此事件。\n",
    "    \"\"\"\n",
    "    logger.info(f\"滑鼠移動到: x={x}, y={y}, dx={dx}, dy={dy}\")\n",
    "    # 檢查新位置是否可通行\n",
    "    if is_passable(x, y):\n",
    "        player.x = x\n",
    "        player.y = y\n",
    "        logger.info(f\"玩家移動到: x={player.x}, y={player.y}\")\n",
    "        update_coord_label()\n",
    "    else:\n",
    "        logger.info(\"嘗試移動玩家到牆壁位置。\")\n",
    "\n",
    "# 繪製迷宮和玩家\n",
    "@app.event\n",
    "def render(ct, dt):\n",
    "    \"\"\"\n",
    "    每幀渲染時觸發此事件。\n",
    "    \"\"\"\n",
    "    app.window.clear()\n",
    "    for wall in wall_sprites:\n",
    "        wall.draw()\n",
    "    player.draw()\n",
    "    title_label.draw()\n",
    "    coord_label.draw()\n",
    "\n",
    "# 初始化座標標籤\n",
    "update_coord_label()\n",
    "\n",
    "if __name__ == \"__main__\":\n",
    "    app.run()\n"
   ]
  },
  {
   "cell_type": "code",
   "execution_count": 11,
   "id": "0de151e6-b63f-4d23-b7a7-5c8e17c55b30",
   "metadata": {
    "scrolled": true
   },
   "outputs": [
    {
     "data": {
      "application/vnd.jupyter.widget-view+json": {
       "model_id": "ab1b60ef183640c58082085f8e7f6571",
       "version_major": 2,
       "version_minor": 0
      },
      "text/plain": [
       "Image(value=b'\\xff\\xd8\\xff\\xe0\\x00\\x10JFIF\\x00\\x01\\x01\\x00\\x00\\x01\\x00\\x01\\x00\\x00\\xff\\xdb\\x00C\\x00\\x05\\x03\\x0…"
      ]
     },
     "execution_count": 11,
     "metadata": {},
     "output_type": "execute_result"
    }
   ],
   "source": [
    "app.run()"
   ]
  },
  {
   "cell_type": "code",
   "execution_count": null,
   "id": "5eeb9286-c82a-469e-a6e8-19e6eac03f02",
   "metadata": {},
   "outputs": [],
   "source": []
  }
 ],
 "metadata": {
  "kernelspec": {
   "display_name": "Python 3 (ipykernel)",
   "language": "python",
   "name": "python3"
  },
  "language_info": {
   "codemirror_mode": {
    "name": "ipython",
    "version": 3
   },
   "file_extension": ".py",
   "mimetype": "text/x-python",
   "name": "python",
   "nbconvert_exporter": "python",
   "pygments_lexer": "ipython3",
   "version": "3.11.10"
  }
 },
 "nbformat": 4,
 "nbformat_minor": 5
}
